{
  "cells": [
    {
      "cell_type": "markdown",
      "metadata": {
        "id": "view-in-github",
        "colab_type": "text"
      },
      "source": [
        "<a href=\"https://colab.research.google.com/github/czapata-ande/ai-frameworks/blob/main/Cuaderno_CancerMama_KerasTF.ipynb\" target=\"_parent\"><img src=\"https://colab.research.google.com/assets/colab-badge.svg\" alt=\"Open In Colab\"/></a>"
      ]
    },
    {
      "cell_type": "markdown",
      "id": "5d1fb147",
      "metadata": {
        "id": "5d1fb147"
      },
      "source": [
        "# Clasificación del cáncer de mama con Keras y TensorFlow"
      ]
    },
    {
      "cell_type": "markdown",
      "id": "6677db45",
      "metadata": {
        "id": "6677db45"
      },
      "source": [
        "## 2. PREPROCESAMIENTO"
      ]
    },
    {
      "cell_type": "code",
      "execution_count": 2,
      "id": "7629bcfe",
      "metadata": {
        "id": "7629bcfe"
      },
      "outputs": [],
      "source": [
        "import numpy as np\n",
        "import pandas as pd\n",
        "from sklearn.model_selection import train_test_split\n",
        "from sklearn.preprocessing import StandardScaler, LabelEncoder\n",
        "\n",
        "# Cargar datos\n",
        "url = \"https://raw.githubusercontent.com/vneumannufprbr/TrabajosRStudio/main/CancerdeMamaDatos.csv\"\n",
        "data = pd.read_csv(url)\n",
        "data.drop(columns=[\"Id\"], inplace=True)\n",
        "\n",
        "# Imputar valores faltantes solo en columnas numéricas\n",
        "data[data.select_dtypes(include='number').columns] = data.select_dtypes(include='number').fillna(data.select_dtypes(include='number').mean())\n",
        "\n",
        "# Codificar variable objetivo\n",
        "le = LabelEncoder()\n",
        "data[\"Class\"] = le.fit_transform(data[\"Class\"])\n",
        "\n",
        "# Separar características y etiquetas\n",
        "X = data.drop(\"Class\", axis=1)\n",
        "y = data[\"Class\"]\n",
        "\n",
        "# Escalar características\n",
        "scaler = StandardScaler()\n",
        "X_scaled = scaler.fit_transform(X)\n",
        "\n",
        "# División entrenamiento/prueba\n",
        "X_train, X_test, y_train, y_test = train_test_split(X_scaled, y, test_size=0.2, random_state=1912)\n"
      ]
    },
    {
      "cell_type": "markdown",
      "id": "fcb38bd9",
      "metadata": {
        "id": "fcb38bd9"
      },
      "source": [
        "## 3. CONSTRUCCIÓN DEL MODELO"
      ]
    },
    {
      "cell_type": "code",
      "execution_count": 3,
      "id": "652c1969",
      "metadata": {
        "colab": {
          "base_uri": "https://localhost:8080/"
        },
        "id": "652c1969",
        "outputId": "94c004ba-22fe-4a32-f95a-ea1b16b8864e"
      },
      "outputs": [
        {
          "output_type": "stream",
          "name": "stderr",
          "text": [
            "/usr/local/lib/python3.11/dist-packages/keras/src/layers/core/dense.py:93: UserWarning: Do not pass an `input_shape`/`input_dim` argument to a layer. When using Sequential models, prefer using an `Input(shape)` object as the first layer in the model instead.\n",
            "  super().__init__(activity_regularizer=activity_regularizer, **kwargs)\n"
          ]
        }
      ],
      "source": [
        "from tensorflow.keras.models import Sequential\n",
        "from tensorflow.keras.layers import Dense\n",
        "\n",
        "# Modelo secuencial\n",
        "model = Sequential([\n",
        "    Dense(10, input_shape=(X_train.shape[1],), activation='relu'),\n",
        "    Dense(5, activation='relu'),\n",
        "    Dense(1, activation='sigmoid')\n",
        "])\n"
      ]
    },
    {
      "cell_type": "markdown",
      "id": "439de4e6",
      "metadata": {
        "id": "439de4e6"
      },
      "source": [
        "## 4. COMPILACIÓN DEL MODELO"
      ]
    },
    {
      "cell_type": "code",
      "execution_count": 4,
      "id": "20862ed6",
      "metadata": {
        "id": "20862ed6"
      },
      "outputs": [],
      "source": [
        "model.compile(\n",
        "    optimizer='adam',\n",
        "    loss='binary_crossentropy',\n",
        "    metrics=['accuracy']\n",
        ")\n"
      ]
    },
    {
      "cell_type": "markdown",
      "id": "2fe09474",
      "metadata": {
        "id": "2fe09474"
      },
      "source": [
        "## 5. ENTRENAMIENTO DEL MODELO"
      ]
    },
    {
      "cell_type": "code",
      "execution_count": 5,
      "id": "dc21688a",
      "metadata": {
        "id": "dc21688a"
      },
      "outputs": [],
      "source": [
        "history = model.fit(X_train, y_train, epochs=100, batch_size=10, verbose=1, validation_split=0.1)\n"
      ]
    },
    {
      "cell_type": "markdown",
      "id": "c8c7816c",
      "metadata": {
        "id": "c8c7816c"
      },
      "source": [
        "## 6. EVALUACIÓN DEL MODELO"
      ]
    },
    {
      "cell_type": "code",
      "execution_count": 6,
      "id": "6a9217e4",
      "metadata": {
        "colab": {
          "base_uri": "https://localhost:8080/"
        },
        "id": "6a9217e4",
        "outputId": "01b1750a-5474-4199-acb5-7150b7641873"
      },
      "outputs": [
        {
          "output_type": "stream",
          "name": "stdout",
          "text": [
            "\u001b[1m5/5\u001b[0m \u001b[32m━━━━━━━━━━━━━━━━━━━━\u001b[0m\u001b[37m\u001b[0m \u001b[1m0s\u001b[0m 20ms/step\n",
            "Accuracy: 0.9714\n",
            "Kappa: 0.9337\n"
          ]
        }
      ],
      "source": [
        "from sklearn.metrics import accuracy_score, cohen_kappa_score\n",
        "\n",
        "# Predicciones\n",
        "y_pred_prob = model.predict(X_test)\n",
        "y_pred_classes = (y_pred_prob > 0.5).astype(\"int32\").flatten()\n",
        "\n",
        "# Métricas\n",
        "accuracy = accuracy_score(y_test, y_pred_classes)\n",
        "kappa = cohen_kappa_score(y_test, y_pred_classes)\n",
        "\n",
        "print(f'Accuracy: {accuracy:.4f}')\n",
        "print(f'Kappa: {kappa:.4f}')\n"
      ]
    },
    {
      "cell_type": "markdown",
      "id": "d9dcb9dd",
      "metadata": {
        "id": "d9dcb9dd"
      },
      "source": [
        "## 7. MATRIZ DE CONFUSIÓN"
      ]
    },
    {
      "cell_type": "code",
      "execution_count": 7,
      "id": "463c0066",
      "metadata": {
        "colab": {
          "base_uri": "https://localhost:8080/",
          "height": 410
        },
        "id": "463c0066",
        "outputId": "f0e20829-c1e6-43b6-864c-9c0daf18d5bb"
      },
      "outputs": [
        {
          "output_type": "display_data",
          "data": {
            "text/plain": [
              "<Figure size 600x400 with 2 Axes>"
            ],
            "image/png": "[encoded data removed]"
          },
          "metadata": {}
        }
      ],
      "source": [
        "from sklearn.metrics import confusion_matrix\n",
        "import seaborn as sns\n",
        "import matplotlib.pyplot as plt\n",
        "\n",
        "cm = confusion_matrix(y_test, y_pred_classes)\n",
        "\n",
        "plt.figure(figsize=(6,4))\n",
        "sns.heatmap(cm, annot=True, fmt=\"d\", cmap=\"Blues\")\n",
        "plt.xlabel(\"Predicho\")\n",
        "plt.ylabel(\"Real\")\n",
        "plt.title(\"Matriz de Confusión\")\n",
        "plt.show()\n"
      ]
    }
  ],
  "metadata": {
    "colab": {
      "provenance": [],
      "include_colab_link": true
    },
    "language_info": {
      "name": "python"
    },
    "kernelspec": {
      "name": "python3",
      "display_name": "Python 3"
    }
  },
  "nbformat": 4,
  "nbformat_minor": 5
}